{
 "cells": [
  {
   "cell_type": "code",
   "execution_count": 1,
   "id": "b1c43dd2",
   "metadata": {
    "deletable": false,
    "editable": false
   },
   "outputs": [],
   "source": [
    "# Initialize Otter\n",
    "import otter\n",
    "grader = otter.Notebook(\"assignment_07.ipynb\")"
   ]
  },
  {
   "cell_type": "markdown",
   "id": "fc696424",
   "metadata": {},
   "source": [
    "# Exploring JupyterLab\n",
    "\n",
    "In this assignment, we will explore the advanced features of JupyterLab - a web-based interactive development environment for working with Jupyter notebooks, code, and data. We will cover different cell types, markdown text formatting, opening additional views of the same notebook, rendering cell output on the side of a code cell, running shell commands, using magic commands, graphical debugger, and workspaces. These features can enhance your productivity when working on data science projects, and by the end of this assignment, you will have a better understanding of how to use them effectively."
   ]
  },
  {
   "cell_type": "markdown",
   "id": "30830455",
   "metadata": {},
   "source": [
    "<!-- BEGIN QUESTION -->\n",
    "\n",
    "<div class=\"alert alert-info\">\n",
    "\n",
    "## Submission instructions\n",
    "\n",
    "<p>You receive marks for submitting your lab correctly, please follow these instructions:</p>\n",
    "\n",
    "<ul>\n",
    "  <!-- <li>Make at least three commits.</li>-->\n",
    "  <li>Export to HTML via <code>File -> Save and export notebook as... -> HTML</code> and upload the HTML file to Canvas.</li>\n",
    "    <ul>\n",
    "      <li>Before submitting, make sure you restart the kernel and rerun all cells.</li>\n",
    "    </ul>\n",
    "  <li>Don't change any variable names that are given to you, don't move cells around, and don't include any code to install packages in the notebook.</li>\n",
    "  </li>\n",
    "</ul>\n",
    "</div>\n",
    "\n",
    "_Points:_ 1"
   ]
  },
  {
   "cell_type": "markdown",
   "id": "4da2e64f",
   "metadata": {},
   "source": [
    "<!-- END QUESTION -->\n",
    "\n",
    "----\n",
    "\n",
    "## Recap\n",
    "\n",
    "Let's practice again skills we have learnt in a previous Modules:\n",
    "\n",
    "1.  Create a new GitHub repo called `jupyterlab_practice`\n",
    "\n",
    "    - make repo `Public`\n",
    "    - initialize a repo with `README` file\n",
    "    - Choose a license : `MIT License`  \n",
    "\n",
    "2.  After the repo is created, add `.gitignore` file and populate it with `**/*.log`, `.DS_Store` and `.ipynb_checkpoints`\n",
    " \n",
    " \n",
    "3. Clone the `jupyterlab_practice` repo to your computer\n",
    "\n",
    "    - create a branch called `developer-1` \n",
    "    - set up the tracking branch for your local `developer-1` branch \n",
    "    - **use `developer-1` branch to make any changes to your repo** \n",
    "    - publish the branch on the remote\n",
    "\n",
    "4. Create an environment (you can use any name) and export it as `environment.yaml` file. Make sure that exported environment can be used on different operating systems\n",
    "\n",
    "\n",
    "For this exercise you will be working with your `jupyterlab_practice environment.`\n",
    "\n",
    "\n",
    "**Don't forget to do frequent commits to track your changes**"
   ]
  },
  {
   "cell_type": "markdown",
   "id": "3ba3d72f",
   "metadata": {},
   "source": [
    "<div class=\"alert alert-info\">\n",
    "    \n",
    "### Question 1\n",
    "    \n",
    "You've recently installed JupyterLab in your `base` environment, and created a few new Conda environments. Unfortunately, you can't find your new environments in the list of available kernels in JupyterLab's Launcher page. What could be the reason? Select all correct answers.\n",
    "        \n",
    "A) `nb_conda_kernels` is not installed in the new environments.   \n",
    "B) `ipykernel` is not installed in your new environment.  \n",
    "C) JupyterLab is not installed in the new environments.    \n",
    "D) `ipykernel` is not installed in your base environment.  \n",
    "E) You haven't activated the new environment in your terminal before launching JupyterLab.   \n",
    "F) `nb_conda_kernels` is not installed in your base environment.\n",
    "\n",
    "</td>\n",
    "</tr>\n",
    "</table>\n",
    "</div>\n",
    "\n",
    "_Points:_ 1"
   ]
  },
  {
   "cell_type": "code",
   "execution_count": 2,
   "id": "6f06c485",
   "metadata": {
    "tags": []
   },
   "outputs": [],
   "source": [
    "# Your answer should be a string with all the letters of the options you think are correct, e.g. 'AB'\n",
    "q1 = \"BF\""
   ]
  },
  {
   "cell_type": "code",
   "execution_count": 3,
   "id": "95d624ff",
   "metadata": {
    "deletable": false,
    "editable": false
   },
   "outputs": [
    {
     "data": {
      "text/html": [
       "<p><strong><pre style='display: inline;'>q1</pre></strong> passed! 🍀</p>"
      ],
      "text/plain": [
       "q1 results: All test cases passed!"
      ]
     },
     "execution_count": 3,
     "metadata": {},
     "output_type": "execute_result"
    }
   ],
   "source": [
    "grader.check(\"q1\")"
   ]
  },
  {
   "cell_type": "markdown",
   "id": "5982ea38",
   "metadata": {},
   "source": [
    "<div class=\"alert alert-info\">\n",
    "    \n",
    "### Question 2\n",
    "    \n",
    "The terminal that you can open in JupyterLab can only use the Conda environment of your notebook's kernel.\n",
    "\n",
    "A) True     \n",
    "B) False    \n",
    " \n",
    "\n",
    "</div>\n",
    "\n",
    "_Points:_ 1"
   ]
  },
  {
   "cell_type": "code",
   "execution_count": 4,
   "id": "61019bec",
   "metadata": {
    "tags": []
   },
   "outputs": [],
   "source": [
    "# Your answer should be a string with all the letters of the options you think are correct, e.g. 'AB'\n",
    "q2 = \"B\""
   ]
  },
  {
   "cell_type": "code",
   "execution_count": 5,
   "id": "8fc72170",
   "metadata": {
    "deletable": false,
    "editable": false
   },
   "outputs": [
    {
     "data": {
      "text/html": [
       "<p><strong><pre style='display: inline;'>q2</pre></strong> passed! 🍀</p>"
      ],
      "text/plain": [
       "q2 results: All test cases passed!"
      ]
     },
     "execution_count": 5,
     "metadata": {},
     "output_type": "execute_result"
    }
   ],
   "source": [
    "grader.check(\"q2\")"
   ]
  },
  {
   "cell_type": "markdown",
   "id": "0dcdd609",
   "metadata": {},
   "source": [
    "-----\n",
    "\n",
    "## Part I: Learning More about JupyterLab"
   ]
  },
  {
   "cell_type": "markdown",
   "id": "ac66652f",
   "metadata": {},
   "source": [
    "Let's start with reviewing some theory :"
   ]
  },
  {
   "cell_type": "markdown",
   "id": "8edfa31e",
   "metadata": {},
   "source": [
    "<div class=\"alert alert-info\">\n",
    "    \n",
    "### Question 3\n",
    "\n",
    "In JupyterLab, you can **open** and **edit** the following types of files (select all correct answers):\n",
    "\n",
    "\n",
    "\n",
    "A)  `.md` (Markdown documents)  \n",
    "B)  `.pdf` (PDF files)  \n",
    "C)  `.py` (Python files)  \n",
    "D)  `.ipynb` (Jupyter notebooks)  \n",
    "E)  `.png` (image files)\n",
    " \n",
    "<details><summary><b>Hint:</b></summary>\n",
    "    \n",
    "To answer this question, try and open <code>.md</code>,<code>.pdf</code>,<code>.py</code>, <code>.ipynb</code> and <code>.png</code> files and check whether 1) you can open them in Jupyter Lab and 2) you can edit content inside the file\n",
    "\n",
    "</details>\n",
    "</div>\n",
    " \n",
    "\n",
    "_Points:_ 1"
   ]
  },
  {
   "cell_type": "code",
   "execution_count": 6,
   "id": "434dbe82",
   "metadata": {
    "tags": []
   },
   "outputs": [],
   "source": [
    "# Your answer should be a string with all the letters of the options you think are correct, e.g. 'AB'\n",
    "q3 = \"ACD\""
   ]
  },
  {
   "cell_type": "code",
   "execution_count": 7,
   "id": "bf244ecd",
   "metadata": {
    "deletable": false,
    "editable": false
   },
   "outputs": [
    {
     "data": {
      "text/html": [
       "<p><strong><pre style='display: inline;'>q3</pre></strong> passed! 🚀</p>"
      ],
      "text/plain": [
       "q3 results: All test cases passed!"
      ]
     },
     "execution_count": 7,
     "metadata": {},
     "output_type": "execute_result"
    }
   ],
   "source": [
    "grader.check(\"q3\")"
   ]
  },
  {
   "cell_type": "markdown",
   "id": "06b48999",
   "metadata": {},
   "source": [
    "<div class=\"alert alert-info\">\n",
    "    \n",
    "### Question 4 \n",
    "\n",
    "Running a code cell in a Jupyter notebook may change the value of a variable. This automatically updates the output of previously executed cells according to the new value of the changed variable.\n",
    "\n",
    "A) True     \n",
    "B) False \n",
    "\n",
    "</div>\n",
    "\n",
    "_Points:_ 1"
   ]
  },
  {
   "cell_type": "code",
   "execution_count": 8,
   "id": "b768df16",
   "metadata": {
    "tags": []
   },
   "outputs": [],
   "source": [
    "# Your answer should be a string with all the letters of the options you think are correct, e.g. 'AB'\n",
    "q4 = \"B\""
   ]
  },
  {
   "cell_type": "code",
   "execution_count": 9,
   "id": "2d7ac4bd",
   "metadata": {
    "deletable": false,
    "editable": false
   },
   "outputs": [
    {
     "data": {
      "text/html": [
       "<p><strong><pre style='display: inline;'>q4</pre></strong> passed! 🙌</p>"
      ],
      "text/plain": [
       "q4 results: All test cases passed!"
      ]
     },
     "execution_count": 9,
     "metadata": {},
     "output_type": "execute_result"
    }
   ],
   "source": [
    "grader.check(\"q4\")"
   ]
  },
  {
   "cell_type": "markdown",
   "id": "ae3b0893",
   "metadata": {},
   "source": [
    "<div class=\"alert alert-info\">\n",
    "    \n",
    "### Question 5\n",
    "\n",
    "Suppose that you have selected a cell in a Jupyter notebook (you can use the cell above), and you press `D` on your keyboard **twice**. What do you think would happen?\n",
    "    \n",
    "<details><summary><b>Hint:</b></summary>\n",
    "    \n",
    "Make sure your cell is in correct mode: either command or edit. you can see the Mode at teh bottom of your Jupyter Lab screen.\n",
    "    \n",
    "</details>\n",
    "<br>\n",
    "    \n",
    "A) If you're in command mode, \"dd\" will be typed in the cell.     \n",
    "B) If you're in edit mode, the cell will get deleted.   \n",
    "C) If you're in command mode, the cell will get deleted.     \n",
    "D) The cell will get cut and will be ready to be pasted elsewhere.   \n",
    "E)  If you're in edit mode, \"dd\" will be typed in the cell.   \n",
    "\n",
    "\n",
    "\n",
    "\n",
    "</div>\n",
    "\n",
    "\n",
    "_Points:_ 1"
   ]
  },
  {
   "cell_type": "code",
   "execution_count": 10,
   "id": "ce51a3cd",
   "metadata": {
    "tags": []
   },
   "outputs": [],
   "source": [
    "# You can test the keyboard shortcut on this cell\n",
    "# but make sure you don't delete the solution cell below"
   ]
  },
  {
   "cell_type": "code",
   "execution_count": 11,
   "id": "7102accb",
   "metadata": {
    "tags": []
   },
   "outputs": [],
   "source": [
    "# Your answer should be a string with all the letters of the options you think are correct, e.g. 'AB'\n",
    "q5 = \"CE\""
   ]
  },
  {
   "cell_type": "code",
   "execution_count": 12,
   "id": "82a1e15a",
   "metadata": {
    "deletable": false,
    "editable": false
   },
   "outputs": [
    {
     "data": {
      "text/html": [
       "<p><strong><pre style='display: inline;'>q5</pre></strong> passed! ✨</p>"
      ],
      "text/plain": [
       "q5 results: All test cases passed!"
      ]
     },
     "execution_count": 12,
     "metadata": {},
     "output_type": "execute_result"
    }
   ],
   "source": [
    "grader.check(\"q5\")"
   ]
  },
  {
   "cell_type": "markdown",
   "id": "2e56104a",
   "metadata": {},
   "source": [
    "<div class=\"alert alert-info\">\n",
    "    \n",
    "### Question 6\n",
    "\n",
    "When you run a Markdown cell in a Jupyter notebook, the formatted text will be rendered and any code will be executed.\n",
    "\n",
    "<details><summary><b>Hint:</b></summary>\n",
    "    \n",
    "Try to add a markdown cell above and add some code inside a cell. Run a cell to see what happens with the output \n",
    "    \n",
    "</details>\n",
    "<br>\n",
    " \n",
    "    \n",
    "A)\tTRUE   \n",
    "B)  FALSE   \n",
    " \n",
    "  \n",
    "</div>\n",
    "\n",
    "_Points:_ 1"
   ]
  },
  {
   "cell_type": "code",
   "execution_count": 13,
   "id": "0dcf2b1e",
   "metadata": {
    "tags": []
   },
   "outputs": [],
   "source": [
    "# Your answer should be a string with all the letters of the options you think are correct, e.g. 'AB'\n",
    "q6 = \"B\""
   ]
  },
  {
   "cell_type": "code",
   "execution_count": 14,
   "id": "44c5b6cb",
   "metadata": {
    "deletable": false,
    "editable": false
   },
   "outputs": [
    {
     "data": {
      "text/html": [
       "<p><strong><pre style='display: inline;'>q6</pre></strong> passed! ✨</p>"
      ],
      "text/plain": [
       "q6 results: All test cases passed!"
      ]
     },
     "execution_count": 14,
     "metadata": {},
     "output_type": "execute_result"
    }
   ],
   "source": [
    "grader.check(\"q6\")"
   ]
  },
  {
   "cell_type": "markdown",
   "id": "c7d5be4c",
   "metadata": {},
   "source": [
    "<div class=\"alert alert-info\">\n",
    "    \n",
    "### Question 7\n",
    "\n",
    "You're working on a data science project and you need to keep an eye on two plots generated by your code cells and the log generated by one other cell at all times. Would you use notebook views or output views, and why?\n",
    "    \n",
    "A) Notebook views, because all views use the same kernel.   \n",
    "B) Notebook views, because we can point them to the preferred location in the notebook.  \n",
    "C) Output views, because we can re-run the corresponding cell at any time.      \n",
    "D) Output views, because they stay fixed as the notebook gets updated with outputs from other cells.  \n",
    "</div>\n",
    "\n",
    "_Points:_ 1"
   ]
  },
  {
   "cell_type": "code",
   "execution_count": 15,
   "id": "115ef249",
   "metadata": {
    "tags": []
   },
   "outputs": [],
   "source": [
    "# Your answer should be a string with 6 letters of the options you think are correct, e.g. 'ABACCA'\n",
    "q7 = \"D\""
   ]
  },
  {
   "cell_type": "code",
   "execution_count": 16,
   "id": "920ebf79",
   "metadata": {
    "deletable": false,
    "editable": false
   },
   "outputs": [
    {
     "data": {
      "text/html": [
       "<p><strong><pre style='display: inline;'>q7</pre></strong> passed! 🚀</p>"
      ],
      "text/plain": [
       "q7 results: All test cases passed!"
      ]
     },
     "execution_count": 16,
     "metadata": {},
     "output_type": "execute_result"
    }
   ],
   "source": [
    "grader.check(\"q7\")"
   ]
  },
  {
   "cell_type": "markdown",
   "id": "c43fae09",
   "metadata": {},
   "source": [
    "<div class=\"alert alert-info\">\n",
    "    \n",
    "### Question 8 \n",
    "\n",
    "Below you can see five cells with Python code from a Jupyter Notebook. In which sequence would we need to execute these five cells in order for the fifth one to print the result shown below `(8 ,2)`?\n",
    "\n",
    "<img src=\"images/pic01.png\" width=50% >\n",
    "    \n",
    "<details><summary><b>Hint:</b></summary>\n",
    "    \n",
    "You can recreate these cells shown on the image and run the cells in an order specified. Then check the final output.\n",
    "    \n",
    "</details>\n",
    "\n",
    "    \n",
    "A) 1, 2, 3, 4, 1, 4, 5   \n",
    "B) 1, 2, 3, 4, 5   \n",
    "C) 1, 2, 3, 5   \n",
    "D) 1, 2, 3, 4, 3, 4, 5  \n",
    "E) 1, 2, 3, 4, 1, 3, 5   \n",
    "\n",
    "</div>\n",
    "\n",
    "_Points:_ 1"
   ]
  },
  {
   "cell_type": "code",
   "execution_count": 17,
   "id": "fa6904b9",
   "metadata": {
    "tags": []
   },
   "outputs": [],
   "source": [
    "# Your answer should be a string with all the letters of the options you think are correct, e.g. 'AB'\n",
    "q8 = \"A\""
   ]
  },
  {
   "cell_type": "code",
   "execution_count": 18,
   "id": "87e035b7",
   "metadata": {
    "deletable": false,
    "editable": false
   },
   "outputs": [
    {
     "data": {
      "text/html": [
       "<p><strong><pre style='display: inline;'>q8</pre></strong> passed! 💯</p>"
      ],
      "text/plain": [
       "q8 results: All test cases passed!"
      ]
     },
     "execution_count": 18,
     "metadata": {},
     "output_type": "execute_result"
    }
   ],
   "source": [
    "grader.check(\"q8\")"
   ]
  },
  {
   "cell_type": "markdown",
   "id": "c54ac784",
   "metadata": {},
   "source": [
    "\n",
    "<div class=\"alert alert-info\">\n",
    "    \n",
    "### Question 9\n",
    "\n",
    "`%%timeit` is a convenient way to estimate the average running time of a code cell written in Julia, Python, or R in a Jupyter notebook.\n",
    "\n",
    "A)  TRUE   \n",
    "B)  FALSE   \n",
    "\n",
    "</div>\n",
    "\n",
    "_Points:_ 1"
   ]
  },
  {
   "cell_type": "code",
   "execution_count": 19,
   "id": "f7b4e578",
   "metadata": {
    "tags": []
   },
   "outputs": [],
   "source": [
    "# Your answer should be a string with all the letters of the options you think are correct, e.g. 'AB'\n",
    "q9 = \"A\""
   ]
  },
  {
   "cell_type": "code",
   "execution_count": 20,
   "id": "c31f1d30",
   "metadata": {
    "deletable": false,
    "editable": false
   },
   "outputs": [
    {
     "data": {
      "text/html": [
       "<p><strong><pre style='display: inline;'>q9</pre></strong> passed! 🍀</p>"
      ],
      "text/plain": [
       "q9 results: All test cases passed!"
      ]
     },
     "execution_count": 20,
     "metadata": {},
     "output_type": "execute_result"
    }
   ],
   "source": [
    "grader.check(\"q9\")"
   ]
  },
  {
   "cell_type": "markdown",
   "id": "dacb939b",
   "metadata": {},
   "source": [
    "<div class=\"alert alert-info\">\n",
    "    \n",
    "### Question 10\n",
    "\n",
    "You are working in a Jupyter notebook and you want to quickly experiment with one of your Python functions to make sure that it produces correct outputs without cluttering your notebook. Which JupyterLab feature would you use for this purpose?\n",
    "\n",
    "A)  Jupyter extensions       \n",
    "B)  Notebook views        \n",
    "C)  Magic commands      \n",
    "D)  JupyterLab terminal      \n",
    "E)  Notebook console    \n",
    "    \n",
    "</div>\n",
    "\n",
    "_Points:_ 1"
   ]
  },
  {
   "cell_type": "code",
   "execution_count": 21,
   "id": "0f0bab12",
   "metadata": {
    "tags": []
   },
   "outputs": [],
   "source": [
    "# Your answer should be a string with all the letters of the options you think are correct, e.g. 'AB'\n",
    "q10 = \"E\""
   ]
  },
  {
   "cell_type": "code",
   "execution_count": 22,
   "id": "7ed18d59",
   "metadata": {
    "deletable": false,
    "editable": false
   },
   "outputs": [
    {
     "data": {
      "text/html": [
       "<p><strong><pre style='display: inline;'>q10</pre></strong> passed! ✨</p>"
      ],
      "text/plain": [
       "q10 results: All test cases passed!"
      ]
     },
     "execution_count": 22,
     "metadata": {},
     "output_type": "execute_result"
    }
   ],
   "source": [
    "grader.check(\"q10\")"
   ]
  },
  {
   "cell_type": "markdown",
   "id": "9e7a9f7f",
   "metadata": {},
   "source": [
    "----\n",
    "\n",
    "## Part II: Create a new Jupyter Notebook "
   ]
  },
  {
   "cell_type": "markdown",
   "id": "ec2820a6",
   "metadata": {},
   "source": [
    "<!-- BEGIN QUESTION -->\n",
    "\n",
    "\n",
    "<div class=\"alert alert-info\">\n",
    "    \n",
    "### Question 11\n",
    "\n",
    "\n",
    "Create a Jupyter Notebook called `question11.ipynb` that contains the following cells:\n",
    "\n",
    "1. A markdown cell with a level 1 heading that contains your name and one sentence under the heading saying \"Notebook for assignment 7\".\n",
    "2. A code cell with a Python function that computes the mean of the values in a list and prints the results. The function should be called at the bottom of the code cell with the syntax `compute_mean([2, 4, 6, 8])` which should output `5` (or `5.0`). The code cell should be executed so that the output is shown.\n",
    "3. Create a markdown cell under the code cell that explains what your code does and includes the equation of the mean written in Latex. To practice your Latex, please include two different ways of expression the equation of the mean ($\\bar{x}$) as shown below:\n",
    "    \n",
    "<img src=\"images/pic02.png\" width=50% >\n",
    "    \n",
    "This might look intimidating at first, but as we mentioned during lectures, it is common to not know the exact command for each part of an equation that you want to include and look it up online. A good place to start can be these references:\n",
    "\n",
    "- https://en.wikipedia.org/wiki/Summation#Capital-sigma_notation (explains the sum notation)\n",
    "- https://davidhamann.de/2017/06/12/latex-cheat-sheet (some common latex formulas)\n",
    "- https://latex-tutorial.com/big-parentheses (how to make large parentheses)\n",
    "    \n",
    "    \n",
    "Once you are done, upload a single screenshot of all three cells from your Jupyter Notebook in the cell below.\n",
    "\n",
    "<details><summary><b>Hint:</b></summary>\n",
    "You will need to save your screenshot in the same folder as you <code>ipynb</code> file. Will be best that you will follow the proper file organization practices, and add your image inside a <code>image</code> folder.\n",
    "\n",
    "To add am image to <code>ipynb</code> file, use a proper markdown syntax for adding the image (see an example in your Module 7 video)\n",
    "</details>\n",
    "    \n",
    "</div>\n",
    "\n",
    "_Points:_ 2"
   ]
  },
  {
   "attachments": {
    "8e01eaa1-543f-4f6c-bb6a-4c8d27a48663.png": {
     "image/png": "[encoded data removed]"
    }
   },
   "cell_type": "markdown",
   "id": "de7bb574",
   "metadata": {},
   "source": [
    "![image.png](attachment:8e01eaa1-543f-4f6c-bb6a-4c8d27a48663.png)"
   ]
  },
  {
   "cell_type": "markdown",
   "id": "02e76d4d",
   "metadata": {},
   "source": [
    "<!-- END QUESTION -->\n",
    "\n",
    "Once you done, click the ▶▶ button or go to `Kernel -> Restart Kernel and Run All Cells...` in the menu. Then stage and commit the changes. Push them to the remote"
   ]
  },
  {
   "cell_type": "markdown",
   "id": "061d37d3",
   "metadata": {},
   "source": [
    "<!-- BEGIN QUESTION -->\n",
    "\n",
    "\n",
    "<div class=\"alert alert-info\">\n",
    "    \n",
    "### Question 12\n",
    "\n",
    "Create a Jupyter notebook called `question12.ipynb` containing the following cells:\n",
    "\n",
    "1. A markdown cell containing the text `We are currently working in the following directory:`\n",
    "2. A code cell containing the shell command for displaying the current working directly using the special syntax that allows us to access shell commands in Jupyter Lab cells. This cell should be executed so that the current directory shows up as output.\n",
    "3. Another markdown cell with the text: <code>To time how long it takes to run a Python cell, we could use the` `timeit` `command inside a cell as is shown below:<code> Followed by the proper use of the `timeit` command to time the following loop:\n",
    "    \n",
    "<details><summary><b>Note:</b></summary>\n",
    "The code below should <b>not</b> be written as a separate code cell. Instead it should be included inside the markdown cell as a code block. Use Python syntax highlighting to make sure that the code is easy to read.\n",
    "</details>\n",
    "    \n",
    "    ```\n",
    "    for i in range(1_000_000):\n",
    "        i**2\n",
    "    ```\n",
    "\n",
    "\n",
    "4. A code cell that contains the command to export the Jupyter notebook to HTML without including any of the input code cells.\n",
    "5. Run the entire notebook to create the HTML exported version. Open the HTML exported notebook in a new JupyterLab tab and position this tab below your Jupyter notebook so that the view is split in half horizontally with the ipynb file in the top half and the HTML file in the bottom half.\n",
    "\n",
    "**Once you are done, upload a screenshot showing that you have the correct content in the notebook and that you have correctly positioned both tabs inside JupyterLab.**\n",
    "\n",
    "</div>\n",
    "\n",
    "_Points:_ 2"
   ]
  },
  {
   "attachments": {
    "eef35e93-2a79-4689-b7b1-2e98a19b9589.png": {
     "image/png": "[encoded data removed]"
    }
   },
   "cell_type": "markdown",
   "id": "f644e262",
   "metadata": {},
   "source": [
    "![image.png](attachment:eef35e93-2a79-4689-b7b1-2e98a19b9589.png)"
   ]
  },
  {
   "cell_type": "markdown",
   "id": "a702aed6",
   "metadata": {},
   "source": [
    "<!-- END QUESTION -->\n",
    "\n",
    "Once you done, click the ▶▶ button or go to `Kernel -> Restart Kernel and Run All Cells...` in the menu. Then stage and commit the changes. Push them to the remote"
   ]
  },
  {
   "cell_type": "markdown",
   "id": "8598e68a",
   "metadata": {},
   "source": [
    "<!-- BEGIN QUESTION -->\n",
    "\n",
    "<div class=\"alert alert-info\">\n",
    "    \n",
    "### Question 13\n",
    "\n",
    "Once you done, commit and push your changes to the remote. Create a pull request and merge your branch into `main` branch. Send us a URL link to your `jupyterlab_practice` repo. \n",
    "\n",
    "You will be evaluated based on:\n",
    "\n",
    "- presence of all required files\n",
    "- comprehensive README.md\n",
    "- .gitignore file\n",
    "- quality of commit message\n",
    "- completed pull request\n",
    "\n",
    "</div>\n",
    "\n",
    "_Points:_ 3"
   ]
  },
  {
   "cell_type": "markdown",
   "id": "5f3cb1d4",
   "metadata": {},
   "source": [
    "https://github.com/galagon/jupyterlab_practice/tree/main"
   ]
  },
  {
   "cell_type": "markdown",
   "id": "6ce98573",
   "metadata": {},
   "source": [
    "<!-- END QUESTION -->\n",
    "\n",
    "<div class=\"alert alert-danger\" style=\"color:black\">\n",
    "    \n",
    "**Restart and run all before submitting**\n",
    "    \n",
    "Before submitting,\n",
    "don't forget to run all cells in your notebook\n",
    "to make sure there are no errors\n",
    "and so that the TAs can see the output of all the cells properly.\n",
    "You can do this by clicking the ▶▶ button\n",
    "or going to `Kernel -> Restart Kernel and Run All Cells...` in the menu.\n",
    "This is not only important for this course,\n",
    "but a good habit you should get into before ever committing a notebook to GitHub,\n",
    "so that your collaborators can run it from top to bottom\n",
    "without issues.\n",
    "</div>"
   ]
  },
  {
   "cell_type": "markdown",
   "id": "58dd200f",
   "metadata": {},
   "source": [
    "------\n",
    "\n",
    "Assignment 7 completed, Congratulations! ⭐"
   ]
  },
  {
   "cell_type": "markdown",
   "id": "76dfc586",
   "metadata": {
    "deletable": false,
    "editable": false
   },
   "source": [
    "---\n",
    "\n",
    "To double-check your work, the cell below will rerun all of the autograder tests."
   ]
  },
  {
   "cell_type": "code",
   "execution_count": 23,
   "id": "e5a56e3c",
   "metadata": {
    "deletable": false,
    "editable": false
   },
   "outputs": [
    {
     "data": {
      "text/plain": [
       "q1 results: All test cases passed!\n",
       "\n",
       "q10 results: All test cases passed!\n",
       "\n",
       "q2 results: All test cases passed!\n",
       "\n",
       "q3 results: All test cases passed!\n",
       "\n",
       "q4 results: All test cases passed!\n",
       "\n",
       "q5 results: All test cases passed!\n",
       "\n",
       "q6 results: All test cases passed!\n",
       "\n",
       "q7 results: All test cases passed!\n",
       "\n",
       "q8 results: All test cases passed!\n",
       "\n",
       "q9 results: All test cases passed!"
      ]
     },
     "execution_count": 23,
     "metadata": {},
     "output_type": "execute_result"
    }
   ],
   "source": [
    "grader.check_all()"
   ]
  }
 ],
 "metadata": {
  "jupytext": {
   "cell_metadata_filter": "-all",
   "main_language": "python",
   "notebook_metadata_filter": "-all"
  },
  "kernelspec": {
   "display_name": "Python 3 (ipykernel)",
   "language": "python",
   "name": "python3"
  },
  "language_info": {
   "codemirror_mode": {
    "name": "ipython",
    "version": 3
   },
   "file_extension": ".py",
   "mimetype": "text/x-python",
   "name": "python",
   "nbconvert_exporter": "python",
   "pygments_lexer": "ipython3",
   "version": "3.11.4"
  },
  "otter": {
   "OK_FORMAT": true,
   "tests": {
    "q1": {
     "name": "q1",
     "points": 1,
     "suites": [
      {
       "cases": [
        {
         "code": ">>> assert 'f' in q1.lower()\n>>> assert 'b' in q1.lower()\n>>> \n",
         "failure_message": "You are missing one of the correct answers",
         "hidden": false,
         "locked": false
        },
        {
         "code": ">>> assert 'a' not in q1.lower()\n>>> assert 'c' not in q1.lower()\n>>> assert 'd' not in q1.lower()\n>>> assert 'e' not in q1.lower()\n",
         "failure_message": "At least one of the options you have selected is not correct",
         "hidden": false,
         "locked": false
        }
       ],
       "scored": true,
       "setup": "",
       "teardown": "",
       "type": "doctest"
      }
     ]
    },
    "q10": {
     "name": "q10",
     "points": 1,
     "suites": [
      {
       "cases": [
        {
         "code": ">>> assert 'e' == q10.lower()\n>>> \n",
         "failure_message": "Your answer is incorrect or you are missing one of the correct answers",
         "hidden": false,
         "locked": false
        }
       ],
       "scored": true,
       "setup": "",
       "teardown": "",
       "type": "doctest"
      }
     ]
    },
    "q2": {
     "name": "q2",
     "points": 1,
     "suites": [
      {
       "cases": [
        {
         "code": ">>> assert 'b' == q2.lower()\n",
         "failure_message": "You chose an incorrect answer",
         "hidden": false,
         "locked": false
        }
       ],
       "scored": true,
       "setup": "",
       "teardown": "",
       "type": "doctest"
      }
     ]
    },
    "q3": {
     "name": "q3",
     "points": 1,
     "suites": [
      {
       "cases": [
        {
         "code": ">>> assert 'a' in q3.lower()\n>>> assert 'd' in q3.lower()\n>>> assert 'c' in q3.lower()\n",
         "failure_message": "You are missing one of the correct answers",
         "hidden": false,
         "locked": false
        },
        {
         "code": ">>> assert 'b' not in q3.lower()\n>>> assert 'e' not in q3.lower()\n",
         "failure_message": "At least one of the options you have selected is not correct",
         "hidden": false,
         "locked": false
        }
       ],
       "scored": true,
       "setup": "",
       "teardown": "",
       "type": "doctest"
      }
     ]
    },
    "q4": {
     "name": "q4",
     "points": 1,
     "suites": [
      {
       "cases": [
        {
         "code": ">>> assert 'b' == q4.lower()\n>>> \n",
         "failure_message": "Your answer is incorrect or you are missing one of the correct answers",
         "hidden": false,
         "locked": false
        }
       ],
       "scored": true,
       "setup": "",
       "teardown": "",
       "type": "doctest"
      }
     ]
    },
    "q5": {
     "name": "q5",
     "points": 1,
     "suites": [
      {
       "cases": [
        {
         "code": ">>> assert 'c' in q5.lower()\n>>> assert 'e' in q5.lower()\n",
         "failure_message": "You are missing one of the correct answers",
         "hidden": false,
         "locked": false
        },
        {
         "code": ">>> assert 'a' not in q5.lower()\n>>> assert 'b' not in q5.lower()\n>>> assert 'd' not in q5.lower()\n",
         "failure_message": "At least one of the options you have selected is not correct",
         "hidden": false,
         "locked": false
        }
       ],
       "scored": true,
       "setup": "",
       "teardown": "",
       "type": "doctest"
      }
     ]
    },
    "q6": {
     "name": "q6",
     "points": 1,
     "suites": [
      {
       "cases": [
        {
         "code": ">>> assert 'b' == q6.lower()\n",
         "failure_message": "You are missing one of the correct answers",
         "hidden": false,
         "locked": false
        }
       ],
       "scored": true,
       "setup": "",
       "teardown": "",
       "type": "doctest"
      }
     ]
    },
    "q7": {
     "name": "q7",
     "points": 1,
     "suites": [
      {
       "cases": [
        {
         "code": ">>> assert q7.upper() == 'D'\n",
         "failure_message": "Your answer is incorrect or you are missing one of the correct answers",
         "hidden": false,
         "locked": false
        }
       ],
       "scored": true,
       "setup": "",
       "teardown": "",
       "type": "doctest"
      }
     ]
    },
    "q8": {
     "name": "q8",
     "points": 1,
     "suites": [
      {
       "cases": [
        {
         "code": ">>> assert 'a' == q8.lower()\n",
         "failure_message": "You chose an incorrect answer",
         "hidden": false,
         "locked": false
        }
       ],
       "scored": true,
       "setup": "",
       "teardown": "",
       "type": "doctest"
      }
     ]
    },
    "q9": {
     "name": "q9",
     "points": 1,
     "suites": [
      {
       "cases": [
        {
         "code": ">>> assert 'a' == q9.lower()\n",
         "failure_message": "Your answer is incorrect or you are missing one of the correct answers",
         "hidden": false,
         "locked": false
        }
       ],
       "scored": true,
       "setup": "",
       "teardown": "",
       "type": "doctest"
      }
     ]
    }
   }
  }
 },
 "nbformat": 4,
 "nbformat_minor": 5
}

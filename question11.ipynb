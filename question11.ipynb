{
 "cells": [
  {
   "cell_type": "markdown",
   "id": "ef70486f-1438-4880-8bdf-0e276c91e6e4",
   "metadata": {},
   "source": [
    "# Gabriel Smith\n",
    "Notebook for assignment 7"
   ]
  },
  {
   "cell_type": "code",
   "execution_count": 32,
   "id": "4854ed19-56ae-402a-9e56-1e881b08653d",
   "metadata": {},
   "outputs": [
    {
     "name": "stdout",
     "output_type": "stream",
     "text": [
      "20\n"
     ]
    }
   ],
   "source": [
    "def compute_mean(values):\n",
    "    if type(values) is not list:\n",
    "        raise TypeError(\"Input must be a list.\")\n",
    "    sum = 0\n",
    "    for i in range(len(values)):\n",
    "        if not isinstance(values[i], (float, int)):\n",
    "            raise TypeError(\"All list objects must be either integers or floats.\")\n",
    "        else:\n",
    "            sum += values[i]\n",
    "    print(sum)\n",
    "\n",
    "compute_mean([2, 4, 6, 8])"
   ]
  },
  {
   "cell_type": "markdown",
   "id": "f48b265f-c6a8-418a-869e-ab618246683f",
   "metadata": {},
   "source": [
    "$\n",
    "\\bar{x} = \\frac{x_1 + x_2 + ... + x_n}{n} = \\frac{1}{n} \\left( \\sum\\limits_{i=1}^n x_i \\right)\n",
    "$"
   ]
  }
 ],
 "metadata": {
  "kernelspec": {
   "display_name": "Python 3 (ipykernel)",
   "language": "python",
   "name": "python3"
  },
  "language_info": {
   "codemirror_mode": {
    "name": "ipython",
    "version": 3
   },
   "file_extension": ".py",
   "mimetype": "text/x-python",
   "name": "python",
   "nbconvert_exporter": "python",
   "pygments_lexer": "ipython3",
   "version": "3.11.4"
  }
 },
 "nbformat": 4,
 "nbformat_minor": 5
}
